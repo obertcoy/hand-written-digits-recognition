{
 "cells": [
  {
   "cell_type": "code",
   "execution_count": 52,
   "metadata": {},
   "outputs": [],
   "source": [
    "import tensorflow as tf\n",
    "import numpy as np\n",
    "import matplotlib.pyplot as plt\n",
    "from sklearn.model_selection import train_test_split\n",
    "from sklearn.preprocessing import StandardScaler"
   ]
  },
  {
   "cell_type": "code",
   "execution_count": 53,
   "metadata": {},
   "outputs": [
    {
     "name": "stdout",
     "output_type": "stream",
     "text": [
      "Train shape = (60000, 28, 28)\n",
      "Test shape = (10000, 28, 28)\n"
     ]
    }
   ],
   "source": [
    "# Load MNIST\n",
    "\n",
    "(x_train, y_train), (x_test, y_test) = tf.keras.datasets.mnist.load_data()\n",
    "\n",
    "print(f'Train shape = {x_train.shape}')\n",
    "print(f'Test shape = {x_test.shape}')"
   ]
  },
  {
   "cell_type": "code",
   "execution_count": 54,
   "metadata": {},
   "outputs": [
    {
     "data": {
      "text/plain": [
       "<matplotlib.image.AxesImage at 0x1fad9f395d0>"
      ]
     },
     "execution_count": 54,
     "metadata": {},
     "output_type": "execute_result"
    },
    {
     "data": {
      "image/png": "[encoded data removed]",
      "text/plain": [
       "<Figure size 640x480 with 1 Axes>"
      ]
     },
     "metadata": {},
     "output_type": "display_data"
    }
   ],
   "source": [
    "plt.imshow(x_train[0], cmap='gray')"
   ]
  },
  {
   "cell_type": "code",
   "execution_count": 55,
   "metadata": {},
   "outputs": [
    {
     "name": "stdout",
     "output_type": "stream",
     "text": [
      "(10000, 784)\n"
     ]
    }
   ],
   "source": [
    "# Manual flatten\n",
    "\n",
    "x_train_flatten = x_train.reshape(x_train.shape[0], -1)\n",
    "x_test_flatten = x_test.reshape(x_test.shape[0], -1)\n",
    "\n",
    "print(x_test_flatten.shape)"
   ]
  },
  {
   "cell_type": "code",
   "execution_count": 56,
   "metadata": {},
   "outputs": [
    {
     "name": "stdout",
     "output_type": "stream",
     "text": [
      "Train = 48000 | Val = 12000\n",
      "Y values = [0 1 2 3 4 5 6 7 8 9] | shape = 10\n"
     ]
    }
   ],
   "source": [
    "'''\n",
    "Splitting\n",
    "Train 60k | Test 10k\n",
    "-> Train 48k | Val 12k | Test 10k\n",
    "'''\n",
    "\n",
    "x_train_flatten, x_val_flatten, y_train, y_val = train_test_split(x_train_flatten, y_train, test_size=0.2, random_state=2)\n",
    "\n",
    "print(f'Train = {x_train_flatten.shape[0]} | Val = {x_val_flatten.shape[0]}') \n",
    "\n",
    "print(f'Y values = {np.unique(y_test)} | shape = {np.unique(y_test).shape[0]}')"
   ]
  },
  {
   "cell_type": "code",
   "execution_count": 61,
   "metadata": {},
   "outputs": [
    {
     "name": "stdout",
     "output_type": "stream",
     "text": [
      "Input shape = 784 | output shape = 10\n",
      "Epoch 1/100\n",
      "3000/3000 [==============================] - 8s 3ms/step - loss: 3.1300 - accuracy: 0.2473 - val_loss: 2.2766 - val_accuracy: 0.1246\n",
      "Epoch 2/100\n",
      "3000/3000 [==============================] - 7s 2ms/step - loss: 2.3339 - accuracy: 0.1301 - val_loss: 2.2618 - val_accuracy: 0.1247\n",
      "Epoch 3/100\n",
      "3000/3000 [==============================] - 7s 2ms/step - loss: 2.2674 - accuracy: 0.1318 - val_loss: 2.2223 - val_accuracy: 0.1319\n",
      "Epoch 4/100\n",
      "3000/3000 [==============================] - 7s 2ms/step - loss: 2.2527 - accuracy: 0.1321 - val_loss: 2.2071 - val_accuracy: 0.1384\n",
      "Epoch 5/100\n",
      "3000/3000 [==============================] - 7s 2ms/step - loss: 2.2306 - accuracy: 0.1397 - val_loss: 2.1397 - val_accuracy: 0.1648\n",
      "Epoch 6/100\n",
      "3000/3000 [==============================] - 7s 2ms/step - loss: 2.2197 - accuracy: 0.1401 - val_loss: 2.1829 - val_accuracy: 0.1523\n",
      "Epoch 7/100\n",
      "3000/3000 [==============================] - 7s 2ms/step - loss: 2.2516 - accuracy: 0.1360 - val_loss: 2.2086 - val_accuracy: 0.1450\n",
      "Epoch 8/100\n",
      "3000/3000 [==============================] - 8s 3ms/step - loss: 2.2563 - accuracy: 0.1379 - val_loss: 2.2002 - val_accuracy: 0.1458\n",
      "Epoch 9/100\n",
      "3000/3000 [==============================] - 7s 2ms/step - loss: 2.2188 - accuracy: 0.1377 - val_loss: 2.1870 - val_accuracy: 0.1476\n",
      "Epoch 10/100\n",
      "3000/3000 [==============================] - 7s 2ms/step - loss: 2.2440 - accuracy: 0.1499 - val_loss: 2.2304 - val_accuracy: 0.1359\n",
      "Epoch 11/100\n",
      "3000/3000 [==============================] - 7s 2ms/step - loss: 2.2336 - accuracy: 0.1339 - val_loss: 2.2370 - val_accuracy: 0.1329\n",
      "Epoch 12/100\n",
      "3000/3000 [==============================] - 7s 2ms/step - loss: 2.2420 - accuracy: 0.1381 - val_loss: 2.1474 - val_accuracy: 0.1705\n",
      "Epoch 13/100\n",
      "3000/3000 [==============================] - 7s 2ms/step - loss: 2.2943 - accuracy: 0.1599 - val_loss: 2.1807 - val_accuracy: 0.1567\n",
      "Epoch 14/100\n",
      "3000/3000 [==============================] - 7s 2ms/step - loss: 2.2186 - accuracy: 0.1530 - val_loss: 2.1631 - val_accuracy: 0.1589\n",
      "Epoch 15/100\n",
      "3000/3000 [==============================] - 7s 2ms/step - loss: 2.2243 - accuracy: 0.1634 - val_loss: 2.1703 - val_accuracy: 0.1611\n",
      "Epoch 16/100\n",
      "3000/3000 [==============================] - 7s 2ms/step - loss: 2.2316 - accuracy: 0.1454 - val_loss: 2.1560 - val_accuracy: 0.1592\n",
      "Epoch 17/100\n",
      "3000/3000 [==============================] - 8s 3ms/step - loss: 2.2379 - accuracy: 0.1507 - val_loss: 2.1679 - val_accuracy: 0.1551\n",
      "Epoch 18/100\n",
      "3000/3000 [==============================] - 8s 3ms/step - loss: 2.2071 - accuracy: 0.1418 - val_loss: 2.2221 - val_accuracy: 0.1415\n",
      "Epoch 19/100\n",
      " 917/3000 [========>.....................] - ETA: 5s - loss: 2.1924 - accuracy: 0.1454"
     ]
    },
    {
     "ename": "KeyboardInterrupt",
     "evalue": "",
     "output_type": "error",
     "traceback": [
      "\u001b[1;31m---------------------------------------------------------------------------\u001b[0m",
      "\u001b[1;31mKeyboardInterrupt\u001b[0m                         Traceback (most recent call last)",
      "Cell \u001b[1;32mIn[61], line 23\u001b[0m\n\u001b[0;32m     17\u001b[0m batch_size \u001b[38;5;241m=\u001b[39m \u001b[38;5;241m16\u001b[39m\n\u001b[0;32m     19\u001b[0m model\u001b[38;5;241m.\u001b[39mcompile(optimizer\u001b[38;5;241m=\u001b[39mtf\u001b[38;5;241m.\u001b[39mkeras\u001b[38;5;241m.\u001b[39moptimizers\u001b[38;5;241m.\u001b[39mAdam(learning_rate), \n\u001b[0;32m     20\u001b[0m               loss\u001b[38;5;241m=\u001b[39mtf\u001b[38;5;241m.\u001b[39mkeras\u001b[38;5;241m.\u001b[39mlosses\u001b[38;5;241m.\u001b[39mSparseCategoricalCrossentropy(from_logits\u001b[38;5;241m=\u001b[39m\u001b[38;5;28;01mTrue\u001b[39;00m),\n\u001b[0;32m     21\u001b[0m               metrics\u001b[38;5;241m=\u001b[39m[\u001b[38;5;124m'\u001b[39m\u001b[38;5;124maccuracy\u001b[39m\u001b[38;5;124m'\u001b[39m])\n\u001b[1;32m---> 23\u001b[0m history \u001b[38;5;241m=\u001b[39m \u001b[43mmodel\u001b[49m\u001b[38;5;241;43m.\u001b[39;49m\u001b[43mfit\u001b[49m\u001b[43m(\u001b[49m\u001b[43mx_train_flatten\u001b[49m\u001b[43m,\u001b[49m\u001b[43m \u001b[49m\u001b[43my_train\u001b[49m\u001b[43m,\u001b[49m\u001b[43m \u001b[49m\u001b[43mvalidation_data\u001b[49m\u001b[38;5;241;43m=\u001b[39;49m\u001b[43m(\u001b[49m\u001b[43mx_val_flatten\u001b[49m\u001b[43m,\u001b[49m\u001b[43m \u001b[49m\u001b[43my_val\u001b[49m\u001b[43m)\u001b[49m\u001b[43m,\u001b[49m\u001b[43m \u001b[49m\u001b[43mepochs\u001b[49m\u001b[38;5;241;43m=\u001b[39;49m\u001b[43mepochs\u001b[49m\u001b[43m,\u001b[49m\u001b[43m \u001b[49m\u001b[43mbatch_size\u001b[49m\u001b[38;5;241;43m=\u001b[39;49m\u001b[43mbatch_size\u001b[49m\u001b[43m)\u001b[49m\n",
      "File \u001b[1;32mc:\\Users\\ACER\\AppData\\Local\\Programs\\Python\\Python310\\lib\\site-packages\\keras\\utils\\traceback_utils.py:65\u001b[0m, in \u001b[0;36mfilter_traceback.<locals>.error_handler\u001b[1;34m(*args, **kwargs)\u001b[0m\n\u001b[0;32m     63\u001b[0m filtered_tb \u001b[38;5;241m=\u001b[39m \u001b[38;5;28;01mNone\u001b[39;00m\n\u001b[0;32m     64\u001b[0m \u001b[38;5;28;01mtry\u001b[39;00m:\n\u001b[1;32m---> 65\u001b[0m     \u001b[38;5;28;01mreturn\u001b[39;00m fn(\u001b[38;5;241m*\u001b[39margs, \u001b[38;5;241m*\u001b[39m\u001b[38;5;241m*\u001b[39mkwargs)\n\u001b[0;32m     66\u001b[0m \u001b[38;5;28;01mexcept\u001b[39;00m \u001b[38;5;167;01mException\u001b[39;00m \u001b[38;5;28;01mas\u001b[39;00m e:\n\u001b[0;32m     67\u001b[0m     filtered_tb \u001b[38;5;241m=\u001b[39m _process_traceback_frames(e\u001b[38;5;241m.\u001b[39m__traceback__)\n",
      "File \u001b[1;32mc:\\Users\\ACER\\AppData\\Local\\Programs\\Python\\Python310\\lib\\site-packages\\keras\\engine\\training.py:1569\u001b[0m, in \u001b[0;36mModel.fit\u001b[1;34m(self, x, y, batch_size, epochs, verbose, callbacks, validation_split, validation_data, shuffle, class_weight, sample_weight, initial_epoch, steps_per_epoch, validation_steps, validation_batch_size, validation_freq, max_queue_size, workers, use_multiprocessing)\u001b[0m\n\u001b[0;32m   1567\u001b[0m \u001b[38;5;66;03m# No error, now safe to assign to logs.\u001b[39;00m\n\u001b[0;32m   1568\u001b[0m logs \u001b[38;5;241m=\u001b[39m tmp_logs\n\u001b[1;32m-> 1569\u001b[0m end_step \u001b[38;5;241m=\u001b[39m step \u001b[38;5;241m+\u001b[39m \u001b[43mdata_handler\u001b[49m\u001b[38;5;241;43m.\u001b[39;49m\u001b[43mstep_increment\u001b[49m\n\u001b[0;32m   1570\u001b[0m callbacks\u001b[38;5;241m.\u001b[39mon_train_batch_end(end_step, logs)\n\u001b[0;32m   1571\u001b[0m \u001b[38;5;28;01mif\u001b[39;00m \u001b[38;5;28mself\u001b[39m\u001b[38;5;241m.\u001b[39mstop_training:\n",
      "File \u001b[1;32mc:\\Users\\ACER\\AppData\\Local\\Programs\\Python\\Python310\\lib\\site-packages\\keras\\engine\\data_adapter.py:1394\u001b[0m, in \u001b[0;36mDataHandler.step_increment\u001b[1;34m(self)\u001b[0m\n\u001b[0;32m   1391\u001b[0m             \u001b[38;5;28mself\u001b[39m\u001b[38;5;241m.\u001b[39m_current_step \u001b[38;5;241m+\u001b[39m\u001b[38;5;241m=\u001b[39m steps_remaining\n\u001b[0;32m   1392\u001b[0m             \u001b[38;5;28mself\u001b[39m\u001b[38;5;241m.\u001b[39m_steps_per_execution\u001b[38;5;241m.\u001b[39massign(original_spe)\n\u001b[1;32m-> 1394\u001b[0m \u001b[38;5;129m@property\u001b[39m\n\u001b[0;32m   1395\u001b[0m \u001b[38;5;28;01mdef\u001b[39;00m \u001b[38;5;21mstep_increment\u001b[39m(\u001b[38;5;28mself\u001b[39m):\n\u001b[0;32m   1396\u001b[0m \u001b[38;5;250m    \u001b[39m\u001b[38;5;124;03m\"\"\"The number to increment the step for `on_batch_end` methods.\"\"\"\u001b[39;00m\n\u001b[0;32m   1397\u001b[0m     \u001b[38;5;28;01mreturn\u001b[39;00m \u001b[38;5;28mself\u001b[39m\u001b[38;5;241m.\u001b[39m_step_increment\n",
      "\u001b[1;31mKeyboardInterrupt\u001b[0m: "
     ]
    }
   ],
   "source": [
    "# Model\n",
    "\n",
    "input_shape = x_train_flatten.shape[1]\n",
    "n_classes = np.unique(y_test).shape[0]\n",
    "\n",
    "print(f'Input shape = {input_shape} | output shape = {n_classes}')\n",
    "\n",
    "model = tf.keras.Sequential([\n",
    "    tf.keras.layers.Input(shape=(input_shape)),\n",
    "    tf.keras.layers.Dense(128, activation='relu'),\n",
    "    tf.keras.layers.Dropout(0.2),\n",
    "    tf.keras.layers.Dense(n_classes, activation='linear')\n",
    "])\n",
    "\n",
    "learning_rate = 0.01\n",
    "epochs = 100\n",
    "batch_size = 16\n",
    "\n",
    "model.compile(optimizer=tf.keras.optimizers.Adam(learning_rate), \n",
    "              loss=tf.keras.losses.SparseCategoricalCrossentropy(from_logits=True),\n",
    "              metrics=['accuracy'])\n",
    "\n",
    "history = model.fit(x_train_flatten, y_train, validation_data=(x_val_flatten, y_val), epochs=epochs, batch_size=batch_size)"
   ]
  },
  {
   "cell_type": "code",
   "execution_count": null,
   "metadata": {},
   "outputs": [],
   "source": [
    "# Plot training and validation loss\n",
    "plt.plot(history.history['loss'], label='Training Loss')\n",
    "plt.plot(history.history['val_loss'], label='Validation Loss')\n",
    "plt.xlabel('Epochs')\n",
    "plt.ylabel('Loss')\n",
    "plt.legend()\n",
    "plt.show()\n",
    "\n",
    "# Plot training and validation accuracy\n",
    "plt.plot(history.history['accuracy'], label='Training Accuracy')\n",
    "plt.plot(history.history['val_accuracy'], label='Validation Accuracy')\n",
    "plt.xlabel('Epochs')\n",
    "plt.ylabel('Accuracy')\n",
    "plt.legend()\n",
    "plt.show()"
   ]
  }
 ],
 "metadata": {
  "kernelspec": {
   "display_name": "Python 3",
   "language": "python",
   "name": "python3"
  },
  "language_info": {
   "codemirror_mode": {
    "name": "ipython",
    "version": 3
   },
   "file_extension": ".py",
   "mimetype": "text/x-python",
   "name": "python",
   "nbconvert_exporter": "python",
   "pygments_lexer": "ipython3",
   "version": "3.10.9"
  }
 },
 "nbformat": 4,
 "nbformat_minor": 2
}
